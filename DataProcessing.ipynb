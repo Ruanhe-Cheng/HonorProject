{
  "nbformat": 4,
  "nbformat_minor": 0,
  "metadata": {
    "colab": {
      "provenance": []
    },
    "kernelspec": {
      "name": "python3",
      "display_name": "Python 3"
    },
    "language_info": {
      "name": "python"
    }
  },
  "cells": [
    {
      "cell_type": "code",
      "execution_count": null,
      "metadata": {
        "colab": {
          "base_uri": "https://localhost:8080/"
        },
        "id": "ihm-GUsZqHKL",
        "outputId": "71c147e5-8a8c-43bb-9599-fdcad6488bcb"
      },
      "outputs": [
        {
          "output_type": "stream",
          "name": "stdout",
          "text": [
            "Mounted at /content/gdrive\n"
          ]
        }
      ],
      "source": [
        "from google.colab import drive\n",
        "drive.mount('/content/gdrive')"
      ]
    },
    {
      "cell_type": "code",
      "source": [
        "import os\n",
        "import json\n",
        "from collections import Counter\n",
        "\n",
        "\n",
        "data_dir = \"/content/gdrive/MyDrive/YoloVQA/data/test\"\n",
        "images_dir = os.path.join(data_dir, \"images\")\n",
        "labels_dir = os.path.join(data_dir, \"labels\")\n",
        "output_json = os.path.join(data_dir, \"vqa_dataset.json\")\n",
        "\n",
        "class_names = ['circle', 'ellipse', 'hexagon', 'pentagon', 'quatrefoil',\n",
        "               'rectangle', 'rhombus', 'square', 'star', 'triangle']\n",
        "\n",
        "\n",
        "image_files = [f for f in os.listdir(images_dir) if f.lower().endswith(('.png', '.jpg', '.jpeg'))]\n",
        "label_files = [f for f in os.listdir(labels_dir) if f.lower().endswith('.txt')]\n",
        "\n",
        "if not image_files or not label_files:\n",
        "    raise FileNotFoundError(\"No images or labels found in the specified directories.\")\n",
        "\n",
        "vqa_data = []\n",
        "for image_file in image_files:\n",
        "    label_file = os.path.join(labels_dir, image_file.replace(\".png\", \".txt\").replace(\".jpg\", \".txt\").replace(\".jpeg\", \".txt\"))\n",
        "    if not os.path.exists(label_file) or os.path.getsize(label_file) == 0:\n",
        "        continue\n",
        "\n",
        "    with open(label_file, \"r\") as f:\n",
        "        labels = [line.strip().split()[0] for line in f]\n",
        "        class_counts = Counter([class_names[int(cls)] for cls in labels])\n",
        "\n",
        "    shapes_in_image = \", \".join(sorted(class_counts.keys()))\n",
        "    vqa_data.append({\n",
        "        \"image\": os.path.join(images_dir, image_file),\n",
        "        \"question\": \"What shapes are in the image?\",\n",
        "        \"answer\": shapes_in_image\n",
        "    })\n",
        "\n",
        "    for cls, count in class_counts.items():\n",
        "        answer_text = f\"{count} {cls}{'s' if count > 1 else ''}\"\n",
        "        vqa_data.append({\n",
        "            \"image\": os.path.join(images_dir, image_file),\n",
        "            \"question\": f\"How many {cls}s are there in this image?\",\n",
        "            \"answer\": answer_text\n",
        "        })\n",
        "\n",
        "\n",
        "with open(output_json, \"w\", encoding=\"utf-8\") as f:\n",
        "    json.dump(vqa_data, f, indent=4)\n",
        "\n",
        "print(f\"VQA 数据集已生成，包含 {len(vqa_data)} 个问答对，保存为: {output_json}\")\n",
        "\n"
      ],
      "metadata": {
        "colab": {
          "base_uri": "https://localhost:8080/"
        },
        "id": "t7Fo-mJ5qMlB",
        "outputId": "71e8b337-fdd7-452a-c17d-591a50ff1e61"
      },
      "execution_count": null,
      "outputs": [
        {
          "output_type": "stream",
          "name": "stdout",
          "text": [
            "VQA 数据集已生成，包含 140 个问答对，保存为: /content/gdrive/MyDrive/YoloVQA/data/test/vqa_dataset.json\n"
          ]
        }
      ]
    },
    {
      "cell_type": "code",
      "source": [
        "import yaml\n",
        "\n",
        "def load_class_names(yaml_path):\n",
        "    with open(yaml_path, 'r') as f:\n",
        "        data_yaml = yaml.safe_load(f)\n",
        "    return data_yaml.get('names', [])\n",
        "\n",
        "yaml_path = \"/content/gdrive/MyDrive/YoloVQA/yolov7/data_yaml\"\n",
        "class_names = load_class_names(yaml_path)"
      ],
      "metadata": {
        "id": "_6nPtRZlqj0-"
      },
      "execution_count": null,
      "outputs": []
    },
    {
      "cell_type": "code",
      "source": [
        "import os\n",
        "from collections import Counter\n",
        "import matplotlib.pyplot as plt\n",
        "\n",
        "def visualize_label_distribution(dataset_path):\n",
        "    label_counter = Counter()\n",
        "    for split in ['train', 'test', 'valid']:\n",
        "        labels_path = os.path.join(dataset_path, split, 'labels')\n",
        "        for file_name in os.listdir(labels_path):\n",
        "            if file_name.endswith(\".txt\"):\n",
        "                with open(os.path.join(labels_path, file_name), \"r\") as f:\n",
        "                    for line in f:\n",
        "                        label = int(line.split()[0])\n",
        "                        label_counter[class_names[label]] += 1\n",
        "\n",
        "    labels, counts = zip(*label_counter.items())\n",
        "    plt.figure(figsize=(10, 6))\n",
        "    bars = plt.bar(labels, counts, color='skyblue')\n",
        "    plt.xlabel(\"Category\")\n",
        "    plt.ylabel(\"Frequency\")\n",
        "    plt.title(\"Category Distribution in Dataset\")\n",
        "    plt.xticks(rotation=45)\n",
        "\n",
        "        yval = bar.get_height()\n",
        "        plt.text(bar.get_x() + bar.get_width()/2, yval + 0.5, int(yval), ha='center', va='bottom', fontsize=10)\n",
        "\n",
        "    plt.tight_layout()\n",
        "\n",
        "\n",
        "dataset_path = \"/content/gdrive/MyDrive/YoloVQA/data\"\n",
        "visualize_label_distribution(dataset_path)"
      ],
      "metadata": {
        "colab": {
          "base_uri": "https://localhost:8080/",
          "height": 607
        },
        "id": "jGpLWXQ_qMno",
        "outputId": "10359a5c-6ef5-4f5d-d5fc-70046164d84c"
      },
      "execution_count": null,
      "outputs": [
        {
          "output_type": "display_data",
          "data": {
            "text/plain": [
              "<Figure size 1000x600 with 1 Axes>"
            ],
            "image/png": "[encoded data removed]"
          },
          "metadata": {}
        }
      ]
    },
    {
      "cell_type": "code",
      "source": [
        "!apt-get install graphviz\n",
        "!pip install graphviz\n"
      ],
      "metadata": {
        "colab": {
          "base_uri": "https://localhost:8080/"
        },
        "id": "jj2DhnNzqMqH",
        "outputId": "8e5ce1bd-c6e9-4eea-d211-f44e05e612a0"
      },
      "execution_count": null,
      "outputs": [
        {
          "output_type": "stream",
          "name": "stdout",
          "text": [
            "Reading package lists... Done\n",
            "Building dependency tree... Done\n",
            "Reading state information... Done\n",
            "graphviz is already the newest version (2.42.2-6ubuntu0.1).\n",
            "0 upgraded, 0 newly installed, 0 to remove and 49 not upgraded.\n",
            "Requirement already satisfied: graphviz in /usr/local/lib/python3.10/dist-packages (0.20.3)\n"
          ]
        }
      ]
    },
    {
      "cell_type": "code",
      "source": [
        "from graphviz import Digraph\n",
        "\n",
        "def create_yolov7_backbone_flowchart():\n",
        "    dot = Digraph(comment='YOLOv7 Backbone Flowchart')\n",
        "    dot.node('L0', 'Layer 0: Conv(40, 3, 1)')\n",
        "    dot.node('L1-2', 'Layers 1-2: Conv(80, 3, 2) -> Conv(80, 3, 1)')\n",
        "    dot.node('L3', 'Layer 3: Conv(160, 3, 2) (P2/4)')\n",
        "    dot.node('L4-5', 'Layers 4-5: Conv(64, 1, 1)')\n",
        "    dot.node('L6-12', 'Layers 6-12: Conv(64, 3, 1)')\n",
        "    dot.node('L13', 'Layer 13: Concat + Conv(320, 1, 1)')\n",
        "    dot.node('L14', 'Layer 14: Max Pooling (MP)')\n",
        "    dot.node('L15-17', 'Layers 15-17: Conv(160, 1, 1) -> Conv(160, 1, 1) -> Conv(160, 3, 2) (P3/8)')\n",
        "    dot.node('L18', 'Layer 18: Concat + Conv')\n",
        "    dot.node('L19-27', 'Layers 19-27: Conv(128, 3, 1)')\n",
        "    dot.node('L28', 'Layer 28: Concat + Conv(640, 1, 1)')\n",
        "    dot.node('L29', 'Layer 29: Max Pooling (MP)')\n",
        "    dot.node('L30-32', 'Layers 30-32: Conv (Increasing channels)')\n",
        "    dot.node('L33', 'Layer 33: Concat (P4/16) + Conv')\n",
        "    dot.node('L34-42', 'Layers 34-42: Conv(256, 3, 1)')\n",
        "    dot.node('L43', 'Layer 43: Conv(1280, 1, 1)')\n",
        "    dot.node('L44', 'Layer 44: Max Pooling (MP)')\n",
        "    dot.node('L45-57', 'Layers 45-57: Conv + Concat')\n",
        "    dot.node('L58', 'Layer 58: Conv(1280, 1, 1)')\n",
        "\n",
        "    dot.edge('L0', 'L1-2')\n",
        "    dot.edge('L1-2', 'L3')\n",
        "    dot.edge('L3', 'L4-5')\n",
        "    dot.edge('L4-5', 'L6-12')\n",
        "    dot.edge('L6-12', 'L13')\n",
        "    dot.edge('L13', 'L14')\n",
        "    dot.edge('L14', 'L15-17')\n",
        "    dot.edge('L15-17', 'L18')\n",
        "    dot.edge('L18', 'L19-27')\n",
        "    dot.edge('L19-27', 'L28')\n",
        "    dot.edge('L28', 'L29')\n",
        "    dot.edge('L29', 'L30-32')\n",
        "    dot.edge('L30-32', 'L33')\n",
        "    dot.edge('L33', 'L34-42')\n",
        "    dot.edge('L34-42', 'L43')\n",
        "    dot.edge('L43', 'L44')\n",
        "    dot.edge('L44', 'L45-57')\n",
        "    dot.edge('L45-57', 'L58')\n",
        "    dot.render('yolov7_backbone_flowchart_v3', view=True, format='png')\n",
        "\n",
        "create_yolov7_backbone_flowchart()\n",
        "\n"
      ],
      "metadata": {
        "id": "FpyPi3-SqMsV"
      },
      "execution_count": null,
      "outputs": []
    },
    {
      "cell_type": "code",
      "source": [
        "from graphviz import Digraph\n",
        "\n",
        "def create_yolov7_head_flowchart():\n",
        "    dot = Digraph(comment='YOLOv7 Head Flowchart', format='png')\n",
        "    dot.node('59', 'SPPCSPC Layer (Layer 59)')\n",
        "    dot.node('60', 'Conv Layer (Layer 60)')\n",
        "    dot.node('61', 'Upsample Layer (Layer 61)')\n",
        "    dot.node('62', 'Route Backbone P4 (Layer 62)')\n",
        "    dot.node('63', 'Concat Layer (Layer 63)')\n",
        "    dot.node('64-69', 'Conv Layers (Layer 64 to 69)')\n",
        "    dot.node('70', 'Concat Layer (Layer 70)')\n",
        "    dot.node('71', 'Conv Layer (Layer 71)')\n",
        "    dot.node('72', 'Upsample Layer (Layer 72)')\n",
        "    dot.node('73', 'Route Backbone P3 (Layer 73)')\n",
        "    dot.node('74', 'Concat Layer (Layer 74)')\n",
        "    dot.node('75-80', 'Conv Layers (Layer 75 to 80)')\n",
        "    dot.node('81', 'Concat Layer (Layer 81)')\n",
        "    dot.node('82', 'Conv Layer (Layer 82)')\n",
        "    dot.node('83', 'MP Layer (Layer 83)')\n",
        "    dot.node('84', 'Conv Layer (Layer 84)')\n",
        "    dot.node('85', 'Conv Layer (Layer 85)')\n",
        "    dot.node('86', 'Conv Layer (Layer 86)')\n",
        "    dot.node('87', 'Concat Layer (Layer 87)')\n",
        "    dot.node('88-93', 'Conv Layers (Layer 88 to 93)')\n",
        "    dot.node('94', 'Concat Layer (Layer 94)')\n",
        "    dot.node('95', 'Conv Layer (Layer 95)')\n",
        "    dot.node('96', 'MP Layer (Layer 96)')\n",
        "    dot.node('97', 'Conv Layer (Layer 97)')\n",
        "    dot.node('98', 'Conv Layer (Layer 98)')\n",
        "    dot.node('99', 'Conv Layer (Layer 99)')\n",
        "    dot.node('100', 'Concat Layer (Layer 100)')\n",
        "    dot.node('101-106', 'Conv Layers (Layer 101 to 106)')\n",
        "    dot.node('107', 'Concat Layer (Layer 107)')\n",
        "    dot.node('108', 'Conv Layer (Layer 108)')\n",
        "    dot.node('109', 'IDetect Layer (Layer 109)')\n",
        "    dot.edge('59', '60')\n",
        "    dot.edge('60', '61')\n",
        "    dot.edge('61', '63')\n",
        "    dot.edge('62', '63')\n",
        "    dot.edge('63', '64-69')\n",
        "    dot.edge('64-69', '70')\n",
        "    dot.edge('70', '71')\n",
        "    dot.edge('71', '72')\n",
        "    dot.edge('72', '74')\n",
        "    dot.edge('73', '74')\n",
        "    dot.edge('74', '75-80')\n",
        "    dot.edge('75-80', '81')\n",
        "    dot.edge('81', '82')\n",
        "    dot.edge('82', '83')\n",
        "    dot.edge('83', '84')\n",
        "    dot.edge('84', '86')\n",
        "    dot.edge('85', '86')\n",
        "    dot.edge('86', '87')\n",
        "    dot.edge('87', '88-93')\n",
        "    dot.edge('88-93', '94')\n",
        "    dot.edge('94', '95')\n",
        "    dot.edge('95', '96')\n",
        "    dot.edge('96', '97')\n",
        "    dot.edge('97', '99')\n",
        "    dot.edge('98', '99')\n",
        "    dot.edge('99', '100')\n",
        "    dot.edge('100', '101-106')\n",
        "    dot.edge('101-106', '107')\n",
        "    dot.edge('107', '108')\n",
        "    dot.edge('108', '109')\n",
        "    dot.render('yolov7_head_flowchart_v4', view=True)\n",
        "\n",
        "\n",
        "create_yolov7_head_flowchart()\n",
        "\n"
      ],
      "metadata": {
        "id": "T8bqPek6PwRL"
      },
      "execution_count": null,
      "outputs": []
    }
  ]
}
